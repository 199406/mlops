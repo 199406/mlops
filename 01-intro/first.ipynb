{
 "cells": [
  {
   "cell_type": "code",
   "execution_count": 22,
   "id": "1a94795a-f7be-46bf-95ec-e774dd64ec2a",
   "metadata": {},
   "outputs": [],
   "source": [
    "import pandas as pd"
   ]
  },
  {
   "cell_type": "code",
   "execution_count": 59,
   "id": "94dec708-6949-4bc9-81c7-f4db566bdb15",
   "metadata": {},
   "outputs": [
    {
     "data": {
      "text/plain": [
       "'2.2.3'"
      ]
     },
     "execution_count": 59,
     "metadata": {},
     "output_type": "execute_result"
    }
   ],
   "source": [
    "pd.__version__"
   ]
  },
  {
   "cell_type": "code",
   "execution_count": 93,
   "id": "61eef2cb-fbdf-4f02-9d1f-310572262bab",
   "metadata": {},
   "outputs": [],
   "source": [
    "def read_dataframe(df):\n",
    "    \n",
    "    df = df.sample(n=300000, random_state=1)\n",
    "\n",
    "    df['duration'] = df.tpep_dropoff_datetime - df.tpep_pickup_datetime\n",
    "    df.duration = df.duration.apply(lambda td: td.total_seconds() / 60)\n",
    "\n",
    "    negative_durations = df[df['duration'] < 0]\n",
    "\n",
    "    df = df[df['duration'] >= 0]\n",
    "\n",
    "    df = df[(df.duration >= 1) & (df.duration <= 60)]\n",
    "\n",
    "    categorical = ['PULocationID', 'DOLocationID']\n",
    "    df[categorical] = df[categorical].astype(str)\n",
    "    \n",
    "    return df"
   ]
  },
  {
   "cell_type": "code",
   "execution_count": 94,
   "id": "35c41ea6-b36a-4808-8979-29d7f81dd502",
   "metadata": {},
   "outputs": [],
   "source": [
    "train = pd.read_parquet('https://d37ci6vzurychx.cloudfront.net/trip-data/yellow_tripdata_2021-01.parquet')"
   ]
  },
  {
   "cell_type": "code",
   "execution_count": 95,
   "id": "e36f42cb-08f1-40c0-a98b-c326c9e3e467",
   "metadata": {},
   "outputs": [],
   "source": [
    "validation = pd.read_parquet('https://d37ci6vzurychx.cloudfront.net/trip-data/yellow_tripdata_2021-02.parquet')"
   ]
  },
  {
   "cell_type": "code",
   "execution_count": 96,
   "id": "9fced3b6-8620-456f-ba55-45f1288709bd",
   "metadata": {},
   "outputs": [],
   "source": [
    "train_df = read_dataframe(train)"
   ]
  },
  {
   "cell_type": "code",
   "execution_count": 97,
   "id": "95320322-5d73-4c50-8e08-f69d924ce9b9",
   "metadata": {},
   "outputs": [
    {
     "data": {
      "text/plain": [
       "Index(['VendorID', 'tpep_pickup_datetime', 'tpep_dropoff_datetime',\n",
       "       'passenger_count', 'trip_distance', 'RatecodeID', 'store_and_fwd_flag',\n",
       "       'PULocationID', 'DOLocationID', 'payment_type', 'fare_amount', 'extra',\n",
       "       'mta_tax', 'tip_amount', 'tolls_amount', 'improvement_surcharge',\n",
       "       'total_amount', 'congestion_surcharge', 'airport_fee', 'duration'],\n",
       "      dtype='object')"
      ]
     },
     "execution_count": 97,
     "metadata": {},
     "output_type": "execute_result"
    }
   ],
   "source": [
    "train_df.columns"
   ]
  },
  {
   "cell_type": "code",
   "execution_count": 98,
   "id": "bd3ca2a9-d403-42f3-afc8-0161b278f0c2",
   "metadata": {},
   "outputs": [],
   "source": [
    "val_df = read_dataframe(validation)"
   ]
  },
  {
   "cell_type": "code",
   "execution_count": 99,
   "id": "64b1f71d-84a8-40a9-adc7-c02e2fe4721b",
   "metadata": {},
   "outputs": [
    {
     "data": {
      "text/plain": [
       "(294173, 293354)"
      ]
     },
     "execution_count": 99,
     "metadata": {},
     "output_type": "execute_result"
    }
   ],
   "source": [
    "(len(train_df),len(val_df))"
   ]
  },
  {
   "cell_type": "code",
   "execution_count": 100,
   "id": "c752a5a5-272b-441d-9ace-97a2d5bf48b4",
   "metadata": {},
   "outputs": [],
   "source": [
    "train_df['PU_DO'] = train_df['PULocationID'] + '_' + train_df['DOLocationID']\n",
    "val_df['PU_DO'] = val_df['PULocationID'] + '_' + val_df['DOLocationID']"
   ]
  },
  {
   "cell_type": "code",
   "execution_count": 101,
   "id": "176afe52-8191-45c0-9d81-b7d9b032c66f",
   "metadata": {},
   "outputs": [],
   "source": [
    "categorical = ['PU_DO']\n",
    "numerical = ['fare_amount','total_amount','trip_distance']\n"
   ]
  },
  {
   "cell_type": "code",
   "execution_count": 29,
   "id": "ba669202-1a68-486a-a8ee-f67f397f99fd",
   "metadata": {},
   "outputs": [],
   "source": [
    "# correlation_matrix = df[numerical].corr()\n",
    "\n",
    "# # Plotting the correlation heatmap\n",
    "# plt.figure(figsize=(12, 8))\n",
    "# sns.heatmap(df[['duration']], annot=True, cmap='coolwarm', fmt=\".2f\", vmin=-1, vmax=1)\n",
    "# plt.title('Correlation between Duration and Other Numerical Features')\n",
    "# plt.show()\n"
   ]
  },
  {
   "cell_type": "code",
   "execution_count": 102,
   "id": "247a68ac-48b7-40b4-a44c-2434a32c7c6a",
   "metadata": {},
   "outputs": [],
   "source": [
    "from sklearn.feature_extraction import DictVectorizer"
   ]
  },
  {
   "cell_type": "code",
   "execution_count": 103,
   "id": "8bddf9fe-99b4-4357-bd40-e23efd4663ce",
   "metadata": {},
   "outputs": [],
   "source": [
    "dv = DictVectorizer()\n",
    "\n",
    "train_dicts = train_df[categorical + numerical].to_dict(orient='records')\n",
    "X_train = dv.fit_transform(train_dicts)\n",
    "\n",
    "val_dicts = val_df[categorical + numerical].to_dict(orient='records')\n",
    "X_val = dv.transform(val_dicts)"
   ]
  },
  {
   "cell_type": "code",
   "execution_count": 104,
   "id": "31d027b0-70fb-4526-a275-20d07ba39a4e",
   "metadata": {},
   "outputs": [],
   "source": [
    "target = 'duration'\n",
    "y_train = train_df[target].values\n",
    "y_val = val_df[target].values"
   ]
  },
  {
   "cell_type": "code",
   "execution_count": 105,
   "id": "116746ce-2bd6-4728-b739-ffda02fceb93",
   "metadata": {},
   "outputs": [],
   "source": [
    "from sklearn.linear_model import LinearRegression\n",
    "from sklearn.metrics import root_mean_squared_error"
   ]
  },
  {
   "cell_type": "code",
   "execution_count": 106,
   "id": "537df057-39cd-4b3a-801d-d332b09e9500",
   "metadata": {},
   "outputs": [
    {
     "data": {
      "text/plain": [
       "np.float64(4.352449832199674)"
      ]
     },
     "execution_count": 106,
     "metadata": {},
     "output_type": "execute_result"
    }
   ],
   "source": [
    "lr = LinearRegression()\n",
    "lr.fit(X_train, y_train)\n",
    "\n",
    "y_pred = lr.predict(X_val)\n",
    "\n",
    "root_mean_squared_error(y_val, y_pred)"
   ]
  },
  {
   "cell_type": "code",
   "execution_count": 107,
   "id": "07f54c41-0a7e-4eec-9767-7798a7eebf86",
   "metadata": {},
   "outputs": [
    {
     "data": {
      "text/plain": [
       "Text(0, 0.5, 'Density')"
      ]
     },
     "execution_count": 107,
     "metadata": {},
     "output_type": "execute_result"
    },
    {
     "data": {
      "image/png": "[encoded data removed]",
      "text/plain": [
       "<Figure size 1000x600 with 1 Axes>"
      ]
     },
     "metadata": {},
     "output_type": "display_data"
    }
   ],
   "source": [
    "import matplotlib.pyplot as plt\n",
    "import seaborn as sns\n",
    "\n",
    "plt.figure(figsize=(10, 6))\n",
    "\n",
    "# Plotting predictions\n",
    "sns.histplot(y_pred[:100000], color='blue', label='Prediction', kde=True, stat='density', alpha=0.5)\n",
    "\n",
    "# Plotting original data\n",
    "sns.histplot(y_val[:100000], color='orange', label='Original', kde=True, stat='density', alpha=0.5)\n",
    "\n",
    "# Adding legend and labels\n",
    "plt.legend()\n",
    "plt.title('Distribution of Predictions vs. Original Data')\n",
    "plt.xlabel('Value')\n",
    "plt.ylabel('Density')"
   ]
  },
  {
   "cell_type": "code",
   "execution_count": 110,
   "id": "4dfd50f4-f789-487c-a420-bfc2707046fd",
   "metadata": {},
   "outputs": [],
   "source": [
    "import pickle\n",
    "with open('models/lin_reg.bin', 'wb') as f_out:\n",
    "    pickle.dump((dv,lr),f_out)"
   ]
  },
  {
   "cell_type": "code",
   "execution_count": null,
   "id": "afdf33ed-4a48-4776-88a3-b85b5e021048",
   "metadata": {},
   "outputs": [],
   "source": []
  }
 ],
 "metadata": {
  "kernelspec": {
   "display_name": "Python 3 (ipykernel)",
   "language": "python",
   "name": "python3"
  },
  "language_info": {
   "codemirror_mode": {
    "name": "ipython",
    "version": 3
   },
   "file_extension": ".py",
   "mimetype": "text/x-python",
   "name": "python",
   "nbconvert_exporter": "python",
   "pygments_lexer": "ipython3",
   "version": "3.12.1"
  }
 },
 "nbformat": 4,
 "nbformat_minor": 5
}
