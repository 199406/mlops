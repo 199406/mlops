{
 "cells": [
  {
   "cell_type": "code",
   "execution_count": 4,
   "id": "1a94795a-f7be-46bf-95ec-e774dd64ec2a",
   "metadata": {},
   "outputs": [],
   "source": [
    "import pandas as pd"
   ]
  },
  {
   "cell_type": "code",
   "execution_count": 5,
   "id": "94dec708-6949-4bc9-81c7-f4db566bdb15",
   "metadata": {},
   "outputs": [
    {
     "data": {
      "text/plain": [
       "'2.2.3'"
      ]
     },
     "execution_count": 5,
     "metadata": {},
     "output_type": "execute_result"
    }
   ],
   "source": [
    "pd.__version__"
   ]
  },
  {
   "cell_type": "code",
   "execution_count": 32,
   "id": "61eef2cb-fbdf-4f02-9d1f-310572262bab",
   "metadata": {},
   "outputs": [],
   "source": [
    "def read_dataframe(df):\n",
    "    \n",
    "    df = df.sample(n=10000, random_state=1)\n",
    "\n",
    "    df['duration'] = df.tpep_dropoff_datetime - df.tpep_pickup_datetime\n",
    "    df.duration = df.duration.apply(lambda td: td.total_seconds() / 60)\n",
    "\n",
    "    negative_durations = df[df['duration'] < 0]\n",
    "\n",
    "    df = df[df['duration'] >= 0]\n",
    "\n",
    "    df = df[(df.duration >= 1) & (df.duration <= 60)]\n",
    "\n",
    "    categorical = ['PULocationID', 'DOLocationID']\n",
    "    df[categorical] = df[categorical].astype(str)\n",
    "    \n",
    "    return df"
   ]
  },
  {
   "cell_type": "code",
   "execution_count": 33,
   "id": "35c41ea6-b36a-4808-8979-29d7f81dd502",
   "metadata": {},
   "outputs": [],
   "source": [
    "train = pd.read_parquet('https://d37ci6vzurychx.cloudfront.net/trip-data/yellow_tripdata_2021-01.parquet')"
   ]
  },
  {
   "cell_type": "code",
   "execution_count": 34,
   "id": "e36f42cb-08f1-40c0-a98b-c326c9e3e467",
   "metadata": {},
   "outputs": [],
   "source": [
    "validation = pd.read_parquet('https://d37ci6vzurychx.cloudfront.net/trip-data/yellow_tripdata_2021-02.parquet')"
   ]
  },
  {
   "cell_type": "code",
   "execution_count": 35,
   "id": "9fced3b6-8620-456f-ba55-45f1288709bd",
   "metadata": {},
   "outputs": [],
   "source": [
    "train_df = read_dataframe(train)"
   ]
  },
  {
   "cell_type": "code",
   "execution_count": 10,
   "id": "95320322-5d73-4c50-8e08-f69d924ce9b9",
   "metadata": {},
   "outputs": [
    {
     "data": {
      "text/plain": [
       "Index(['VendorID', 'tpep_pickup_datetime', 'tpep_dropoff_datetime',\n",
       "       'passenger_count', 'trip_distance', 'RatecodeID', 'store_and_fwd_flag',\n",
       "       'PULocationID', 'DOLocationID', 'payment_type', 'fare_amount', 'extra',\n",
       "       'mta_tax', 'tip_amount', 'tolls_amount', 'improvement_surcharge',\n",
       "       'total_amount', 'congestion_surcharge', 'airport_fee', 'duration'],\n",
       "      dtype='object')"
      ]
     },
     "execution_count": 10,
     "metadata": {},
     "output_type": "execute_result"
    }
   ],
   "source": [
    "train_df.columns"
   ]
  },
  {
   "cell_type": "code",
   "execution_count": 36,
   "id": "bd3ca2a9-d403-42f3-afc8-0161b278f0c2",
   "metadata": {},
   "outputs": [],
   "source": [
    "val_df = read_dataframe(validation)"
   ]
  },
  {
   "cell_type": "code",
   "execution_count": 37,
   "id": "64b1f71d-84a8-40a9-adc7-c02e2fe4721b",
   "metadata": {},
   "outputs": [
    {
     "data": {
      "text/plain": [
       "(9777, 9776)"
      ]
     },
     "execution_count": 37,
     "metadata": {},
     "output_type": "execute_result"
    }
   ],
   "source": [
    "(len(train_df),len(val_df))"
   ]
  },
  {
   "cell_type": "code",
   "execution_count": 38,
   "id": "c752a5a5-272b-441d-9ace-97a2d5bf48b4",
   "metadata": {},
   "outputs": [],
   "source": [
    "train_df['PU_DO'] = train_df['PULocationID'] + '_' + train_df['DOLocationID']\n",
    "val_df['PU_DO'] = val_df['PULocationID'] + '_' + val_df['DOLocationID']"
   ]
  },
  {
   "cell_type": "code",
   "execution_count": 39,
   "id": "176afe52-8191-45c0-9d81-b7d9b032c66f",
   "metadata": {},
   "outputs": [],
   "source": [
    "categorical = ['PU_DO']\n",
    "numerical = ['fare_amount','total_amount','trip_distance']\n"
   ]
  },
  {
   "cell_type": "code",
   "execution_count": 29,
   "id": "ba669202-1a68-486a-a8ee-f67f397f99fd",
   "metadata": {},
   "outputs": [],
   "source": [
    "# correlation_matrix = df[numerical].corr()\n",
    "\n",
    "# # Plotting the correlation heatmap\n",
    "# plt.figure(figsize=(12, 8))\n",
    "# sns.heatmap(df[['duration']], annot=True, cmap='coolwarm', fmt=\".2f\", vmin=-1, vmax=1)\n",
    "# plt.title('Correlation between Duration and Other Numerical Features')\n",
    "# plt.show()\n"
   ]
  },
  {
   "cell_type": "code",
   "execution_count": 40,
   "id": "247a68ac-48b7-40b4-a44c-2434a32c7c6a",
   "metadata": {},
   "outputs": [],
   "source": [
    "from sklearn.feature_extraction import DictVectorizer"
   ]
  },
  {
   "cell_type": "code",
   "execution_count": 41,
   "id": "8bddf9fe-99b4-4357-bd40-e23efd4663ce",
   "metadata": {},
   "outputs": [],
   "source": [
    "dv = DictVectorizer()\n",
    "\n",
    "train_dicts = train_df[categorical + numerical].to_dict(orient='records')\n",
    "X_train = dv.fit_transform(train_dicts)\n",
    "\n",
    "val_dicts = val_df[categorical + numerical].to_dict(orient='records')\n",
    "X_val = dv.transform(val_dicts)"
   ]
  },
  {
   "cell_type": "code",
   "execution_count": 42,
   "id": "31d027b0-70fb-4526-a275-20d07ba39a4e",
   "metadata": {},
   "outputs": [],
   "source": [
    "target = 'duration'\n",
    "y_train = train_df[target].values\n",
    "y_val = val_df[target].values"
   ]
  },
  {
   "cell_type": "code",
   "execution_count": 43,
   "id": "116746ce-2bd6-4728-b739-ffda02fceb93",
   "metadata": {},
   "outputs": [],
   "source": [
    "from sklearn.linear_model import LinearRegression\n",
    "from sklearn.metrics import root_mean_squared_error"
   ]
  },
  {
   "cell_type": "code",
   "execution_count": 44,
   "id": "537df057-39cd-4b3a-801d-d332b09e9500",
   "metadata": {},
   "outputs": [
    {
     "data": {
      "text/plain": [
       "np.float64(5.115013343915545)"
      ]
     },
     "execution_count": 44,
     "metadata": {},
     "output_type": "execute_result"
    }
   ],
   "source": [
    "lr = LinearRegression()\n",
    "lr.fit(X_train, y_train)\n",
    "\n",
    "y_pred = lr.predict(X_val)\n",
    "\n",
    "root_mean_squared_error(y_val, y_pred)"
   ]
  },
  {
   "cell_type": "code",
   "execution_count": 45,
   "id": "07f54c41-0a7e-4eec-9767-7798a7eebf86",
   "metadata": {},
   "outputs": [
    {
     "data": {
      "text/plain": [
       "Text(0, 0.5, 'Density')"
      ]
     },
     "execution_count": 45,
     "metadata": {},
     "output_type": "execute_result"
    },
    {
     "data": {
      "image/png": "[encoded data removed]",
      "text/plain": [
       "<Figure size 1000x600 with 1 Axes>"
      ]
     },
     "metadata": {},
     "output_type": "display_data"
    }
   ],
   "source": [
    "import matplotlib.pyplot as plt\n",
    "import seaborn as sns\n",
    "\n",
    "plt.figure(figsize=(10, 6))\n",
    "\n",
    "# Plotting predictions\n",
    "sns.histplot(y_pred[:100000], color='blue', label='Prediction', kde=True, stat='density', alpha=0.5)\n",
    "\n",
    "# Plotting original data\n",
    "sns.histplot(y_val[:100000], color='orange', label='Original', kde=True, stat='density', alpha=0.5)\n",
    "\n",
    "# Adding legend and labels\n",
    "plt.legend()\n",
    "plt.title('Distribution of Predictions vs. Original Data')\n",
    "plt.xlabel('Value')\n",
    "plt.ylabel('Density')"
   ]
  },
  {
   "cell_type": "code",
   "execution_count": 46,
   "id": "4dfd50f4-f789-487c-a420-bfc2707046fd",
   "metadata": {},
   "outputs": [],
   "source": [
    "import pickle\n",
    "with open('models/lin_reg.bin', 'wb') as f_out:\n",
    "    pickle.dump((dv,lr),f_out)"
   ]
  },
  {
   "cell_type": "code",
   "execution_count": 27,
   "id": "cf641a74",
   "metadata": {},
   "outputs": [
    {
     "name": "stderr",
     "output_type": "stream",
     "text": [
      "2024/09/27 19:50:16 INFO mlflow.tracking.fluent: Experiment with name 'nyc_taxi_experiment' does not exist. Creating a new experiment.\n"
     ]
    },
    {
     "data": {
      "text/plain": [
       "<Experiment: artifact_location='/workspaces/mlops/01-intro/mlruns/1', creation_time=1727466616327, experiment_id='1', last_update_time=1727466616327, lifecycle_stage='active', name='nyc_taxi_experiment', tags={}>"
      ]
     },
     "execution_count": 27,
     "metadata": {},
     "output_type": "execute_result"
    }
   ],
   "source": [
    "# import mlflow\n",
    "\n",
    "# mlflow.set_tracking_uri(\"sqlite:///mlflow.db\")\n",
    "# mlflow.set_experiment(\"nyc_taxi_experiment\")"
   ]
  },
  {
   "cell_type": "code",
   "execution_count": 47,
   "id": "afdf33ed-4a48-4776-88a3-b85b5e021048",
   "metadata": {},
   "outputs": [],
   "source": [
    "import xgboost as xgb"
   ]
  },
  {
   "cell_type": "code",
   "execution_count": 48,
   "id": "ea4f742a",
   "metadata": {},
   "outputs": [],
   "source": [
    "from hyperopt import fmin, tpe, hp, STATUS_OK, Trials\n",
    "from hyperopt.pyll import scope"
   ]
  },
  {
   "cell_type": "code",
   "execution_count": 49,
   "id": "373d3626",
   "metadata": {},
   "outputs": [],
   "source": [
    "train = xgb.DMatrix(X_train, label=y_train)\n",
    "valid = xgb.DMatrix(X_val, label=y_val)"
   ]
  },
  {
   "cell_type": "code",
   "execution_count": 52,
   "id": "eb0a64b4",
   "metadata": {},
   "outputs": [],
   "source": [
    "def objective(params):\n",
    "    with mlflow.start_run():\n",
    "        mlflow.set_tag(\"model\", \"xgboost\")\n",
    "        mlflow.log_params(params)\n",
    "        booster = xgb.train(\n",
    "            params=params,\n",
    "            dtrain=train,\n",
    "            num_boost_round=200,\n",
    "            evals=[(valid, 'validation')],\n",
    "            early_stopping_rounds=50\n",
    "        )\n",
    "        y_pred = booster.predict(valid)\n",
    "        rmse = root_mean_squared_error(y_val, y_pred)\n",
    "        mlflow.log_metric(\"rmse\", rmse)\n",
    "\n",
    "    return {'loss': rmse, 'status': STATUS_OK}"
   ]
  },
  {
   "cell_type": "code",
   "execution_count": 53,
   "id": "62440ade",
   "metadata": {},
   "outputs": [
    {
     "name": "stdout",
     "output_type": "stream",
     "text": [
      "[0]\tvalidation-rmse:5.89978                          \n",
      "  0%|          | 0/8 [00:00<?, ?trial/s, best loss=?]"
     ]
    },
    {
     "name": "stderr",
     "output_type": "stream",
     "text": [
      "/workspaces/mlops/venv/lib/python3.12/site-packages/xgboost/core.py:158: UserWarning: [19:52:58] WARNING: /workspace/src/objective/regression_obj.cu:227: reg:linear is now deprecated in favor of reg:squarederror.\n",
      "  warnings.warn(smsg, UserWarning)\n",
      "\n"
     ]
    },
    {
     "name": "stdout",
     "output_type": "stream",
     "text": [
      "[1]\tvalidation-rmse:4.47598                          \n",
      "[2]\tvalidation-rmse:3.92990                          \n",
      "[3]\tvalidation-rmse:3.79655                          \n",
      "[4]\tvalidation-rmse:3.71060                          \n",
      "[5]\tvalidation-rmse:3.69980                          \n",
      "[6]\tvalidation-rmse:3.69636                          \n",
      "[7]\tvalidation-rmse:3.68364                          \n",
      "[8]\tvalidation-rmse:3.70693                          \n",
      "[9]\tvalidation-rmse:3.72525                          \n",
      "[10]\tvalidation-rmse:3.72349                         \n",
      "[11]\tvalidation-rmse:3.73016                         \n",
      "[12]\tvalidation-rmse:3.74147                         \n",
      "[13]\tvalidation-rmse:3.76630                         \n",
      "[14]\tvalidation-rmse:3.78237                         \n",
      "[15]\tvalidation-rmse:3.77592                         \n",
      "[16]\tvalidation-rmse:3.78022                         \n",
      "[17]\tvalidation-rmse:3.77999                         \n",
      "[18]\tvalidation-rmse:3.78873                         \n",
      "[19]\tvalidation-rmse:3.79458                         \n",
      "[20]\tvalidation-rmse:3.80851                         \n",
      "[21]\tvalidation-rmse:3.81608                         \n",
      "[22]\tvalidation-rmse:3.82236                         \n",
      "[23]\tvalidation-rmse:3.83082                         \n",
      "[24]\tvalidation-rmse:3.84286                         \n",
      "[25]\tvalidation-rmse:3.84890                         \n",
      "[26]\tvalidation-rmse:3.84827                         \n",
      "[27]\tvalidation-rmse:3.85539                         \n",
      "[28]\tvalidation-rmse:3.85574                         \n",
      "[29]\tvalidation-rmse:3.85826                         \n",
      "[30]\tvalidation-rmse:3.86512                         \n",
      "[31]\tvalidation-rmse:3.86791                         \n",
      "[32]\tvalidation-rmse:3.87022                         \n",
      "[33]\tvalidation-rmse:3.87382                         \n",
      "[34]\tvalidation-rmse:3.87855                         \n",
      "[35]\tvalidation-rmse:3.88241                         \n",
      "[36]\tvalidation-rmse:3.88803                         \n",
      "[37]\tvalidation-rmse:3.88797                         \n",
      "[38]\tvalidation-rmse:3.89435                         \n",
      "[39]\tvalidation-rmse:3.89807                         \n",
      "[40]\tvalidation-rmse:3.90286                         \n",
      "[41]\tvalidation-rmse:3.90584                         \n",
      "[42]\tvalidation-rmse:3.90837                         \n",
      "[43]\tvalidation-rmse:3.90957                         \n",
      "[44]\tvalidation-rmse:3.91204                         \n",
      "[45]\tvalidation-rmse:3.91881                         \n",
      "[46]\tvalidation-rmse:3.92257                         \n",
      "[47]\tvalidation-rmse:3.92447                         \n",
      "[48]\tvalidation-rmse:3.92620                         \n",
      "[49]\tvalidation-rmse:3.92927                         \n",
      "[50]\tvalidation-rmse:3.93178                         \n",
      "[51]\tvalidation-rmse:3.93588                         \n",
      "[52]\tvalidation-rmse:3.93593                         \n",
      "[53]\tvalidation-rmse:3.93552                         \n",
      "[54]\tvalidation-rmse:3.93726                         \n",
      "[55]\tvalidation-rmse:3.93522                         \n",
      "[56]\tvalidation-rmse:3.93921                         \n",
      "[57]\tvalidation-rmse:3.94313                         \n",
      "[0]\tvalidation-rmse:8.25221                                                    \n",
      " 12%|█▎        | 1/8 [00:09<01:07,  9.67s/trial, best loss: 3.9431302087209152]"
     ]
    },
    {
     "name": "stderr",
     "output_type": "stream",
     "text": [
      "/workspaces/mlops/venv/lib/python3.12/site-packages/xgboost/core.py:158: UserWarning: [19:53:07] WARNING: /workspace/src/objective/regression_obj.cu:227: reg:linear is now deprecated in favor of reg:squarederror.\n",
      "  warnings.warn(smsg, UserWarning)\n",
      "\n"
     ]
    },
    {
     "name": "stdout",
     "output_type": "stream",
     "text": [
      "[1]\tvalidation-rmse:7.41553                                                    \n",
      "[2]\tvalidation-rmse:6.71535                                                    \n",
      "[3]\tvalidation-rmse:6.14242                                                    \n",
      "[4]\tvalidation-rmse:5.66931                                                    \n",
      "[5]\tvalidation-rmse:5.28354                                                    \n",
      "[6]\tvalidation-rmse:4.97329                                                    \n",
      "[7]\tvalidation-rmse:4.73182                                                    \n",
      "[8]\tvalidation-rmse:4.53493                                                    \n",
      "[9]\tvalidation-rmse:4.37899                                                    \n",
      "[10]\tvalidation-rmse:4.25046                                                   \n",
      "[11]\tvalidation-rmse:4.15737                                                   \n",
      "[12]\tvalidation-rmse:4.08207                                                   \n",
      "[13]\tvalidation-rmse:4.02226                                                   \n",
      "[14]\tvalidation-rmse:3.97209                                                   \n",
      "[15]\tvalidation-rmse:3.93521                                                   \n",
      "[16]\tvalidation-rmse:3.91268                                                   \n",
      "[17]\tvalidation-rmse:3.89452                                                   \n",
      "[18]\tvalidation-rmse:3.87975                                                   \n",
      "[19]\tvalidation-rmse:3.86911                                                   \n",
      "[20]\tvalidation-rmse:3.85910                                                   \n",
      "[21]\tvalidation-rmse:3.85313                                                   \n",
      "[22]\tvalidation-rmse:3.84753                                                   \n",
      "[23]\tvalidation-rmse:3.85024                                                   \n",
      "[24]\tvalidation-rmse:3.84949                                                   \n",
      "[25]\tvalidation-rmse:3.84528                                                   \n",
      "[26]\tvalidation-rmse:3.84458                                                   \n",
      "[27]\tvalidation-rmse:3.84327                                                   \n",
      "[28]\tvalidation-rmse:3.84069                                                   \n",
      "[29]\tvalidation-rmse:3.83900                                                   \n",
      "[30]\tvalidation-rmse:3.83270                                                   \n",
      "[31]\tvalidation-rmse:3.83114                                                   \n",
      "[32]\tvalidation-rmse:3.82913                                                   \n",
      "[33]\tvalidation-rmse:3.82686                                                   \n",
      "[34]\tvalidation-rmse:3.82559                                                   \n",
      "[35]\tvalidation-rmse:3.82407                                                   \n",
      "[36]\tvalidation-rmse:3.82501                                                   \n",
      "[37]\tvalidation-rmse:3.82609                                                   \n",
      "[38]\tvalidation-rmse:3.82805                                                   \n",
      "[39]\tvalidation-rmse:3.82634                                                   \n",
      "[40]\tvalidation-rmse:3.82515                                                   \n",
      "[41]\tvalidation-rmse:3.82525                                                   \n",
      "[42]\tvalidation-rmse:3.82478                                                   \n",
      "[43]\tvalidation-rmse:3.82446                                                   \n",
      "[44]\tvalidation-rmse:3.82492                                                   \n",
      "[45]\tvalidation-rmse:3.82562                                                   \n",
      "[46]\tvalidation-rmse:3.82679                                                   \n",
      "[47]\tvalidation-rmse:3.82779                                                   \n",
      "[48]\tvalidation-rmse:3.82897                                                   \n",
      "[49]\tvalidation-rmse:3.82895                                                   \n",
      "[50]\tvalidation-rmse:3.83002                                                   \n",
      "[51]\tvalidation-rmse:3.82995                                                   \n",
      "[52]\tvalidation-rmse:3.83299                                                   \n",
      "[53]\tvalidation-rmse:3.83420                                                   \n",
      "[54]\tvalidation-rmse:3.83494                                                   \n",
      "[55]\tvalidation-rmse:3.83734                                                   \n",
      "[56]\tvalidation-rmse:3.83805                                                   \n",
      "[57]\tvalidation-rmse:3.83839                                                   \n",
      "[58]\tvalidation-rmse:3.83879                                                   \n",
      "[59]\tvalidation-rmse:3.83986                                                   \n",
      "[60]\tvalidation-rmse:3.84017                                                   \n",
      "[61]\tvalidation-rmse:3.84068                                                   \n",
      "[62]\tvalidation-rmse:3.84113                                                   \n",
      "[63]\tvalidation-rmse:3.84324                                                   \n",
      "[64]\tvalidation-rmse:3.84335                                                   \n",
      "[65]\tvalidation-rmse:3.84336                                                   \n",
      "[66]\tvalidation-rmse:3.84374                                                   \n",
      "[67]\tvalidation-rmse:3.84557                                                   \n",
      "[68]\tvalidation-rmse:3.84596                                                   \n",
      "[69]\tvalidation-rmse:3.84686                                                   \n",
      "[70]\tvalidation-rmse:3.84702                                                   \n",
      "[71]\tvalidation-rmse:3.84758                                                   \n",
      "[72]\tvalidation-rmse:3.84896                                                   \n",
      "[73]\tvalidation-rmse:3.84931                                                   \n",
      "[74]\tvalidation-rmse:3.84950                                                   \n",
      "[75]\tvalidation-rmse:3.85029                                                   \n",
      "[76]\tvalidation-rmse:3.85003                                                   \n",
      "[77]\tvalidation-rmse:3.85009                                                   \n",
      "[78]\tvalidation-rmse:3.84976                                                   \n",
      "[79]\tvalidation-rmse:3.84980                                                   \n",
      "[80]\tvalidation-rmse:3.84987                                                   \n",
      "[81]\tvalidation-rmse:3.85085                                                   \n",
      "[82]\tvalidation-rmse:3.85143                                                   \n",
      "[83]\tvalidation-rmse:3.85186                                                   \n",
      "[84]\tvalidation-rmse:3.85169                                                   \n",
      " 25%|██▌       | 2/8 [00:19<00:59,  9.92s/trial, best loss: 3.851665395571914] "
     ]
    },
    {
     "name": "stderr",
     "output_type": "stream",
     "text": [
      "/workspaces/mlops/venv/lib/python3.12/site-packages/xgboost/core.py:158: UserWarning: [19:53:17] WARNING: /workspace/src/objective/regression_obj.cu:227: reg:linear is now deprecated in favor of reg:squarederror.\n",
      "  warnings.warn(smsg, UserWarning)\n",
      "\n"
     ]
    },
    {
     "name": "stdout",
     "output_type": "stream",
     "text": [
      "[0]\tvalidation-rmse:8.44625                                                   \n",
      "[1]\tvalidation-rmse:7.74022                                                   \n",
      "[2]\tvalidation-rmse:7.12165                                                   \n",
      "[3]\tvalidation-rmse:6.59550                                                   \n",
      "[4]\tvalidation-rmse:6.13535                                                   \n",
      "[5]\tvalidation-rmse:5.74668                                                   \n",
      "[6]\tvalidation-rmse:5.40967                                                   \n",
      "[7]\tvalidation-rmse:5.13586                                                   \n",
      "[8]\tvalidation-rmse:4.88774                                                   \n",
      "[9]\tvalidation-rmse:4.68247                                                   \n",
      "[10]\tvalidation-rmse:4.50993                                                  \n",
      "[11]\tvalidation-rmse:4.37207                                                  \n",
      "[12]\tvalidation-rmse:4.25530                                                  \n",
      "[13]\tvalidation-rmse:4.16349                                                  \n",
      "[14]\tvalidation-rmse:4.08725                                                  \n",
      "[15]\tvalidation-rmse:4.02763                                                  \n",
      "[16]\tvalidation-rmse:3.98038                                                  \n",
      "[17]\tvalidation-rmse:3.94016                                                  \n",
      "[18]\tvalidation-rmse:3.91456                                                  \n",
      "[19]\tvalidation-rmse:3.88655                                                  \n",
      "[20]\tvalidation-rmse:3.86671                                                  \n",
      "[21]\tvalidation-rmse:3.85261                                                  \n",
      "[22]\tvalidation-rmse:3.83333                                                  \n",
      "[23]\tvalidation-rmse:3.81718                                                  \n",
      "[24]\tvalidation-rmse:3.80146                                                  \n",
      "[25]\tvalidation-rmse:3.79430                                                  \n",
      "[26]\tvalidation-rmse:3.78514                                                  \n",
      "[27]\tvalidation-rmse:3.77770                                                  \n",
      "[28]\tvalidation-rmse:3.77293                                                  \n",
      "[29]\tvalidation-rmse:3.77112                                                  \n",
      "[30]\tvalidation-rmse:3.77110                                                  \n",
      "[31]\tvalidation-rmse:3.77080                                                  \n",
      "[32]\tvalidation-rmse:3.77130                                                  \n",
      "[33]\tvalidation-rmse:3.77241                                                  \n",
      "[34]\tvalidation-rmse:3.77317                                                  \n",
      "[35]\tvalidation-rmse:3.77328                                                  \n",
      "[36]\tvalidation-rmse:3.77504                                                  \n",
      "[37]\tvalidation-rmse:3.77861                                                  \n",
      "[38]\tvalidation-rmse:3.77894                                                  \n",
      "[39]\tvalidation-rmse:3.78204                                                  \n",
      "[40]\tvalidation-rmse:3.78157                                                  \n",
      "[41]\tvalidation-rmse:3.78360                                                  \n",
      "[42]\tvalidation-rmse:3.78763                                                  \n",
      "[43]\tvalidation-rmse:3.79002                                                  \n",
      "[44]\tvalidation-rmse:3.79087                                                  \n",
      "[45]\tvalidation-rmse:3.79162                                                  \n",
      "[46]\tvalidation-rmse:3.79104                                                  \n",
      "[47]\tvalidation-rmse:3.79356                                                  \n",
      "[48]\tvalidation-rmse:3.79548                                                  \n",
      "[49]\tvalidation-rmse:3.79533                                                  \n",
      "[50]\tvalidation-rmse:3.79557                                                  \n",
      "[51]\tvalidation-rmse:3.79824                                                  \n",
      "[52]\tvalidation-rmse:3.80130                                                  \n",
      "[53]\tvalidation-rmse:3.80286                                                  \n",
      "[54]\tvalidation-rmse:3.80279                                                  \n",
      "[55]\tvalidation-rmse:3.80267                                                  \n",
      "[56]\tvalidation-rmse:3.80387                                                  \n",
      "[57]\tvalidation-rmse:3.80511                                                  \n",
      "[58]\tvalidation-rmse:3.80699                                                  \n",
      "[59]\tvalidation-rmse:3.81032                                                  \n",
      "[60]\tvalidation-rmse:3.81336                                                  \n",
      "[61]\tvalidation-rmse:3.81636                                                  \n",
      "[62]\tvalidation-rmse:3.81934                                                  \n",
      "[63]\tvalidation-rmse:3.82073                                                  \n",
      "[64]\tvalidation-rmse:3.82409                                                  \n",
      "[65]\tvalidation-rmse:3.82623                                                  \n",
      "[66]\tvalidation-rmse:3.82742                                                  \n",
      "[67]\tvalidation-rmse:3.83006                                                  \n",
      "[68]\tvalidation-rmse:3.83148                                                  \n",
      "[69]\tvalidation-rmse:3.83379                                                  \n",
      "[70]\tvalidation-rmse:3.83495                                                  \n",
      "[71]\tvalidation-rmse:3.83516                                                  \n",
      "[72]\tvalidation-rmse:3.83819                                                  \n",
      "[73]\tvalidation-rmse:3.83919                                                  \n",
      "[74]\tvalidation-rmse:3.84105                                                  \n",
      "[75]\tvalidation-rmse:3.84208                                                  \n",
      "[76]\tvalidation-rmse:3.84382                                                  \n",
      "[77]\tvalidation-rmse:3.84480                                                  \n",
      "[78]\tvalidation-rmse:3.84444                                                  \n",
      "[79]\tvalidation-rmse:3.84594                                                  \n",
      "[80]\tvalidation-rmse:3.84702                                                  \n",
      " 38%|███▊      | 3/8 [00:40<01:14, 14.96s/trial, best loss: 3.8485634994568763]"
     ]
    },
    {
     "name": "stderr",
     "output_type": "stream",
     "text": [
      "/workspaces/mlops/venv/lib/python3.12/site-packages/xgboost/core.py:158: UserWarning: [19:53:38] WARNING: /workspace/src/objective/regression_obj.cu:227: reg:linear is now deprecated in favor of reg:squarederror.\n",
      "  warnings.warn(smsg, UserWarning)\n",
      "\n"
     ]
    },
    {
     "name": "stdout",
     "output_type": "stream",
     "text": [
      "[0]\tvalidation-rmse:6.75770                                                    \n",
      "[1]\tvalidation-rmse:5.33012                                                    \n",
      "[2]\tvalidation-rmse:4.56150                                                    \n",
      "[3]\tvalidation-rmse:4.16164                                                    \n",
      "[4]\tvalidation-rmse:3.97592                                                    \n",
      "[5]\tvalidation-rmse:3.86418                                                    \n",
      "[6]\tvalidation-rmse:3.81434                                                    \n",
      "[7]\tvalidation-rmse:3.79074                                                    \n",
      "[8]\tvalidation-rmse:3.77471                                                    \n",
      "[9]\tvalidation-rmse:3.77165                                                    \n",
      "[10]\tvalidation-rmse:3.77200                                                   \n",
      "[11]\tvalidation-rmse:3.76630                                                   \n",
      "[12]\tvalidation-rmse:3.76702                                                   \n",
      "[13]\tvalidation-rmse:3.76315                                                   \n",
      "[14]\tvalidation-rmse:3.75832                                                   \n",
      "[15]\tvalidation-rmse:3.75782                                                   \n",
      "[16]\tvalidation-rmse:3.75795                                                   \n",
      "[17]\tvalidation-rmse:3.75807                                                   \n",
      "[18]\tvalidation-rmse:3.75794                                                   \n",
      "[19]\tvalidation-rmse:3.76657                                                   \n",
      "[20]\tvalidation-rmse:3.76669                                                   \n",
      "[21]\tvalidation-rmse:3.76545                                                   \n",
      "[22]\tvalidation-rmse:3.76496                                                   \n",
      "[23]\tvalidation-rmse:3.76290                                                   \n",
      "[24]\tvalidation-rmse:3.76293                                                   \n",
      "[25]\tvalidation-rmse:3.76266                                                   \n",
      "[26]\tvalidation-rmse:3.76126                                                   \n",
      "[27]\tvalidation-rmse:3.76115                                                   \n",
      "[28]\tvalidation-rmse:3.76126                                                   \n",
      "[29]\tvalidation-rmse:3.76133                                                   \n",
      "[30]\tvalidation-rmse:3.76162                                                   \n",
      "[31]\tvalidation-rmse:3.76274                                                   \n",
      "[32]\tvalidation-rmse:3.76286                                                   \n",
      "[33]\tvalidation-rmse:3.76271                                                   \n",
      "[34]\tvalidation-rmse:3.76245                                                   \n",
      "[35]\tvalidation-rmse:3.76134                                                   \n",
      "[36]\tvalidation-rmse:3.76147                                                   \n",
      "[37]\tvalidation-rmse:3.76175                                                   \n",
      "[38]\tvalidation-rmse:3.76218                                                   \n",
      "[39]\tvalidation-rmse:3.76232                                                   \n",
      "[40]\tvalidation-rmse:3.76232                                                   \n",
      "[41]\tvalidation-rmse:3.76205                                                   \n",
      "[42]\tvalidation-rmse:3.76162                                                   \n",
      "[43]\tvalidation-rmse:3.76155                                                   \n",
      "[44]\tvalidation-rmse:3.76149                                                   \n",
      "[45]\tvalidation-rmse:3.76148                                                   \n",
      "[46]\tvalidation-rmse:3.76265                                                   \n",
      "[47]\tvalidation-rmse:3.76234                                                   \n",
      "[48]\tvalidation-rmse:3.76220                                                   \n",
      "[49]\tvalidation-rmse:3.76203                                                   \n",
      "[50]\tvalidation-rmse:3.76235                                                   \n",
      "[51]\tvalidation-rmse:3.76261                                                   \n",
      "[52]\tvalidation-rmse:3.76278                                                   \n",
      "[53]\tvalidation-rmse:3.76266                                                   \n",
      "[54]\tvalidation-rmse:3.76257                                                   \n",
      "[55]\tvalidation-rmse:3.76248                                                   \n",
      "[56]\tvalidation-rmse:3.76265                                                   \n",
      "[57]\tvalidation-rmse:3.76328                                                   \n",
      "[58]\tvalidation-rmse:3.76327                                                   \n",
      "[59]\tvalidation-rmse:3.76276                                                   \n",
      "[60]\tvalidation-rmse:3.76271                                                   \n",
      "[61]\tvalidation-rmse:3.76261                                                   \n",
      "[62]\tvalidation-rmse:3.76261                                                   \n",
      "[63]\tvalidation-rmse:3.76261                                                   \n",
      "[64]\tvalidation-rmse:3.76273                                                   \n",
      "[0]\tvalidation-rmse:7.12835                                                    \n",
      "[1]\tvalidation-rmse:5.78211                                                    \n",
      " 50%|█████     | 4/8 [00:47<00:46, 11.61s/trial, best loss: 3.7627354372129775]"
     ]
    },
    {
     "name": "stderr",
     "output_type": "stream",
     "text": [
      "/workspaces/mlops/venv/lib/python3.12/site-packages/xgboost/core.py:158: UserWarning: [19:53:45] WARNING: /workspace/src/objective/regression_obj.cu:227: reg:linear is now deprecated in favor of reg:squarederror.\n",
      "  warnings.warn(smsg, UserWarning)\n",
      "\n"
     ]
    },
    {
     "name": "stdout",
     "output_type": "stream",
     "text": [
      "[2]\tvalidation-rmse:4.90621                                                    \n",
      "[3]\tvalidation-rmse:4.35925                                                    \n",
      "[4]\tvalidation-rmse:4.03971                                                    \n",
      "[5]\tvalidation-rmse:3.85164                                                    \n",
      "[6]\tvalidation-rmse:3.74963                                                    \n",
      "[7]\tvalidation-rmse:3.67140                                                    \n",
      "[8]\tvalidation-rmse:3.64645                                                    \n",
      "[9]\tvalidation-rmse:3.61434                                                    \n",
      "[10]\tvalidation-rmse:3.60571                                                   \n",
      "[11]\tvalidation-rmse:3.58323                                                   \n",
      "[12]\tvalidation-rmse:3.57675                                                   \n",
      "[13]\tvalidation-rmse:3.58823                                                   \n",
      "[14]\tvalidation-rmse:3.58561                                                   \n",
      "[15]\tvalidation-rmse:3.58457                                                   \n",
      "[16]\tvalidation-rmse:3.58426                                                   \n",
      "[17]\tvalidation-rmse:3.58022                                                   \n",
      "[18]\tvalidation-rmse:3.57146                                                   \n",
      "[19]\tvalidation-rmse:3.57633                                                   \n",
      "[20]\tvalidation-rmse:3.57341                                                   \n",
      "[21]\tvalidation-rmse:3.57733                                                   \n",
      "[22]\tvalidation-rmse:3.57364                                                   \n",
      "[23]\tvalidation-rmse:3.58414                                                   \n",
      "[24]\tvalidation-rmse:3.59124                                                   \n",
      "[25]\tvalidation-rmse:3.59536                                                   \n",
      "[26]\tvalidation-rmse:3.59899                                                   \n",
      "[27]\tvalidation-rmse:3.60629                                                   \n",
      "[28]\tvalidation-rmse:3.60158                                                   \n",
      "[29]\tvalidation-rmse:3.60301                                                   \n",
      "[30]\tvalidation-rmse:3.60089                                                   \n",
      "[31]\tvalidation-rmse:3.60440                                                   \n",
      "[32]\tvalidation-rmse:3.60894                                                   \n",
      "[33]\tvalidation-rmse:3.61408                                                   \n",
      "[34]\tvalidation-rmse:3.62021                                                   \n",
      "[35]\tvalidation-rmse:3.62276                                                   \n",
      "[36]\tvalidation-rmse:3.61820                                                   \n",
      "[37]\tvalidation-rmse:3.62206                                                   \n",
      "[38]\tvalidation-rmse:3.62462                                                   \n",
      "[39]\tvalidation-rmse:3.62538                                                   \n",
      "[40]\tvalidation-rmse:3.62954                                                   \n",
      "[41]\tvalidation-rmse:3.63186                                                   \n",
      "[42]\tvalidation-rmse:3.63643                                                   \n",
      "[43]\tvalidation-rmse:3.63971                                                   \n",
      "[44]\tvalidation-rmse:3.64569                                                   \n",
      "[45]\tvalidation-rmse:3.64737                                                   \n",
      "[46]\tvalidation-rmse:3.65279                                                   \n",
      "[47]\tvalidation-rmse:3.65252                                                   \n",
      "[48]\tvalidation-rmse:3.65975                                                   \n",
      "[49]\tvalidation-rmse:3.66209                                                   \n",
      "[50]\tvalidation-rmse:3.66581                                                   \n",
      "[51]\tvalidation-rmse:3.66566                                                   \n",
      "[52]\tvalidation-rmse:3.66911                                                   \n",
      "[53]\tvalidation-rmse:3.67235                                                   \n",
      "[54]\tvalidation-rmse:3.67542                                                   \n",
      "[55]\tvalidation-rmse:3.67813                                                   \n",
      "[56]\tvalidation-rmse:3.67891                                                   \n",
      "[57]\tvalidation-rmse:3.67932                                                   \n",
      "[58]\tvalidation-rmse:3.68435                                                   \n",
      "[59]\tvalidation-rmse:3.68491                                                   \n",
      "[60]\tvalidation-rmse:3.68774                                                   \n",
      "[61]\tvalidation-rmse:3.69010                                                   \n",
      "[62]\tvalidation-rmse:3.69321                                                   \n",
      "[63]\tvalidation-rmse:3.69526                                                   \n",
      "[64]\tvalidation-rmse:3.69535                                                   \n",
      "[65]\tvalidation-rmse:3.70259                                                   \n",
      "[66]\tvalidation-rmse:3.70300                                                   \n",
      "[67]\tvalidation-rmse:3.70740                                                   \n",
      "[68]\tvalidation-rmse:3.70457                                                   \n",
      "[0]\tvalidation-rmse:5.17945                                                    \n",
      " 62%|██████▎   | 5/8 [00:51<00:27,  9.04s/trial, best loss: 3.7045709649385734]"
     ]
    },
    {
     "name": "stderr",
     "output_type": "stream",
     "text": [
      "/workspaces/mlops/venv/lib/python3.12/site-packages/xgboost/core.py:158: UserWarning: [19:53:49] WARNING: /workspace/src/objective/regression_obj.cu:227: reg:linear is now deprecated in favor of reg:squarederror.\n",
      "  warnings.warn(smsg, UserWarning)\n",
      "\n"
     ]
    },
    {
     "name": "stdout",
     "output_type": "stream",
     "text": [
      "[1]\tvalidation-rmse:4.13501                                                    \n",
      "[2]\tvalidation-rmse:3.93419                                                    \n",
      "[3]\tvalidation-rmse:3.91267                                                    \n",
      "[4]\tvalidation-rmse:3.88767                                                    \n",
      "[5]\tvalidation-rmse:3.90921                                                    \n",
      "[6]\tvalidation-rmse:3.90794                                                    \n",
      "[7]\tvalidation-rmse:3.90357                                                    \n",
      "[8]\tvalidation-rmse:3.90353                                                    \n",
      "[9]\tvalidation-rmse:3.90159                                                    \n",
      "[10]\tvalidation-rmse:3.90138                                                   \n",
      "[11]\tvalidation-rmse:3.90173                                                   \n",
      "[12]\tvalidation-rmse:3.90106                                                   \n",
      "[13]\tvalidation-rmse:3.90061                                                   \n",
      "[14]\tvalidation-rmse:3.90060                                                   \n",
      "[15]\tvalidation-rmse:3.90048                                                   \n",
      "[16]\tvalidation-rmse:3.90078                                                   \n",
      "[17]\tvalidation-rmse:3.91445                                                   \n",
      "[18]\tvalidation-rmse:3.91445                                                   \n",
      "[19]\tvalidation-rmse:3.91232                                                   \n",
      "[20]\tvalidation-rmse:3.91312                                                   \n",
      "[21]\tvalidation-rmse:3.91229                                                   \n",
      "[22]\tvalidation-rmse:3.91229                                                   \n",
      "[23]\tvalidation-rmse:3.91770                                                   \n",
      "[24]\tvalidation-rmse:3.91607                                                   \n",
      "[25]\tvalidation-rmse:3.91755                                                   \n",
      "[26]\tvalidation-rmse:3.91997                                                   \n",
      "[27]\tvalidation-rmse:3.92029                                                   \n",
      "[28]\tvalidation-rmse:3.92552                                                   \n",
      "[29]\tvalidation-rmse:3.93028                                                   \n",
      "[30]\tvalidation-rmse:3.93373                                                   \n",
      "[31]\tvalidation-rmse:3.93390                                                   \n",
      "[32]\tvalidation-rmse:3.93435                                                   \n",
      "[33]\tvalidation-rmse:3.93439                                                   \n",
      "[34]\tvalidation-rmse:3.93460                                                   \n",
      "[35]\tvalidation-rmse:3.93441                                                   \n",
      "[36]\tvalidation-rmse:3.93456                                                   \n",
      "[37]\tvalidation-rmse:3.93489                                                   \n",
      "[38]\tvalidation-rmse:3.93493                                                   \n",
      "[39]\tvalidation-rmse:3.93513                                                   \n",
      "[40]\tvalidation-rmse:3.94997                                                   \n",
      "[41]\tvalidation-rmse:3.94959                                                   \n",
      "[42]\tvalidation-rmse:3.94955                                                   \n",
      "[43]\tvalidation-rmse:3.94976                                                   \n",
      "[44]\tvalidation-rmse:3.94969                                                   \n",
      "[45]\tvalidation-rmse:3.94956                                                   \n",
      "[46]\tvalidation-rmse:3.94972                                                   \n",
      "[47]\tvalidation-rmse:3.94990                                                   \n",
      "[48]\tvalidation-rmse:3.95003                                                   \n",
      "[49]\tvalidation-rmse:3.95000                                                   \n",
      "[50]\tvalidation-rmse:3.95037                                                   \n",
      "[51]\tvalidation-rmse:3.95030                                                   \n",
      "[52]\tvalidation-rmse:3.95038                                                   \n",
      "[53]\tvalidation-rmse:3.95151                                                   \n",
      "[54]\tvalidation-rmse:3.95135                                                   \n",
      "[0]\tvalidation-rmse:6.96834                                                    \n",
      " 75%|███████▌  | 6/8 [00:53<00:13,  6.61s/trial, best loss: 3.7045709649385734]"
     ]
    },
    {
     "name": "stderr",
     "output_type": "stream",
     "text": [
      "/workspaces/mlops/venv/lib/python3.12/site-packages/xgboost/core.py:158: UserWarning: [19:53:51] WARNING: /workspace/src/objective/regression_obj.cu:227: reg:linear is now deprecated in favor of reg:squarederror.\n",
      "  warnings.warn(smsg, UserWarning)\n",
      "\n"
     ]
    },
    {
     "name": "stdout",
     "output_type": "stream",
     "text": [
      "[1]\tvalidation-rmse:5.54055                                                    \n",
      "[2]\tvalidation-rmse:4.69643                                                    \n",
      "[3]\tvalidation-rmse:4.22971                                                    \n",
      "[4]\tvalidation-rmse:4.00272                                                    \n",
      "[5]\tvalidation-rmse:3.89098                                                    \n",
      "[6]\tvalidation-rmse:3.82672                                                    \n",
      "[7]\tvalidation-rmse:3.78713                                                    \n",
      "[8]\tvalidation-rmse:3.78140                                                    \n",
      "[9]\tvalidation-rmse:3.77328                                                    \n",
      "[10]\tvalidation-rmse:3.76887                                                   \n",
      "[11]\tvalidation-rmse:3.77522                                                   \n",
      "[12]\tvalidation-rmse:3.78545                                                   \n",
      "[13]\tvalidation-rmse:3.78990                                                   \n",
      "[14]\tvalidation-rmse:3.79324                                                   \n",
      "[15]\tvalidation-rmse:3.79155                                                   \n",
      "[16]\tvalidation-rmse:3.79409                                                   \n",
      "[17]\tvalidation-rmse:3.79855                                                   \n",
      "[18]\tvalidation-rmse:3.81308                                                   \n",
      "[19]\tvalidation-rmse:3.81860                                                   \n",
      "[20]\tvalidation-rmse:3.82968                                                   \n",
      "[21]\tvalidation-rmse:3.83239                                                   \n",
      "[22]\tvalidation-rmse:3.83834                                                   \n",
      "[23]\tvalidation-rmse:3.84741                                                   \n",
      "[24]\tvalidation-rmse:3.85132                                                   \n",
      "[25]\tvalidation-rmse:3.85551                                                   \n",
      "[26]\tvalidation-rmse:3.86160                                                   \n",
      "[27]\tvalidation-rmse:3.86530                                                   \n",
      "[28]\tvalidation-rmse:3.86668                                                   \n",
      "[29]\tvalidation-rmse:3.86478                                                   \n",
      "[30]\tvalidation-rmse:3.87048                                                   \n",
      "[31]\tvalidation-rmse:3.87501                                                   \n",
      "[32]\tvalidation-rmse:3.87862                                                   \n",
      "[33]\tvalidation-rmse:3.87820                                                   \n",
      "[34]\tvalidation-rmse:3.88276                                                   \n",
      "[35]\tvalidation-rmse:3.88370                                                   \n",
      "[36]\tvalidation-rmse:3.88855                                                   \n",
      "[37]\tvalidation-rmse:3.89175                                                   \n",
      "[38]\tvalidation-rmse:3.89333                                                   \n",
      "[39]\tvalidation-rmse:3.89431                                                   \n",
      "[40]\tvalidation-rmse:3.90174                                                   \n",
      "[41]\tvalidation-rmse:3.90128                                                   \n",
      "[42]\tvalidation-rmse:3.90357                                                   \n",
      "[43]\tvalidation-rmse:3.90531                                                   \n",
      "[44]\tvalidation-rmse:3.90692                                                   \n",
      "[45]\tvalidation-rmse:3.90978                                                   \n",
      "[46]\tvalidation-rmse:3.90994                                                   \n",
      "[47]\tvalidation-rmse:3.91223                                                   \n",
      "[48]\tvalidation-rmse:3.91477                                                   \n",
      "[49]\tvalidation-rmse:3.91842                                                   \n",
      "[50]\tvalidation-rmse:3.92205                                                   \n",
      "[51]\tvalidation-rmse:3.92356                                                   \n",
      "[52]\tvalidation-rmse:3.92541                                                   \n",
      "[53]\tvalidation-rmse:3.92588                                                   \n",
      "[54]\tvalidation-rmse:3.92668                                                   \n",
      "[55]\tvalidation-rmse:3.92667                                                   \n",
      "[56]\tvalidation-rmse:3.93025                                                   \n",
      "[57]\tvalidation-rmse:3.93340                                                   \n",
      "[58]\tvalidation-rmse:3.93506                                                   \n",
      "[59]\tvalidation-rmse:3.93539                                                   \n",
      "[0]\tvalidation-rmse:7.66631                                                    \n",
      " 88%|████████▊ | 7/8 [01:05<00:08,  8.32s/trial, best loss: 3.7045709649385734]"
     ]
    },
    {
     "name": "stderr",
     "output_type": "stream",
     "text": [
      "/workspaces/mlops/venv/lib/python3.12/site-packages/xgboost/core.py:158: UserWarning: [19:54:03] WARNING: /workspace/src/objective/regression_obj.cu:227: reg:linear is now deprecated in favor of reg:squarederror.\n",
      "  warnings.warn(smsg, UserWarning)\n",
      "\n"
     ]
    },
    {
     "name": "stdout",
     "output_type": "stream",
     "text": [
      "[1]\tvalidation-rmse:6.49554                                                    \n",
      "[2]\tvalidation-rmse:5.64087                                                    \n",
      "[3]\tvalidation-rmse:5.02311                                                    \n",
      "[4]\tvalidation-rmse:4.57468                                                    \n",
      "[5]\tvalidation-rmse:4.27879                                                    \n",
      "[6]\tvalidation-rmse:4.08180                                                    \n",
      "[7]\tvalidation-rmse:3.94460                                                    \n",
      "[8]\tvalidation-rmse:3.86422                                                    \n",
      "[9]\tvalidation-rmse:3.79297                                                    \n",
      "[10]\tvalidation-rmse:3.74956                                                   \n",
      "[11]\tvalidation-rmse:3.71922                                                   \n",
      "[12]\tvalidation-rmse:3.70684                                                   \n",
      "[13]\tvalidation-rmse:3.69613                                                   \n",
      "[14]\tvalidation-rmse:3.68409                                                   \n",
      "[15]\tvalidation-rmse:3.67809                                                   \n",
      "[16]\tvalidation-rmse:3.67375                                                   \n",
      "[17]\tvalidation-rmse:3.67894                                                   \n",
      "[18]\tvalidation-rmse:3.67847                                                   \n",
      "[19]\tvalidation-rmse:3.67427                                                   \n",
      "[20]\tvalidation-rmse:3.67215                                                   \n",
      "[21]\tvalidation-rmse:3.67140                                                   \n",
      "[22]\tvalidation-rmse:3.67226                                                   \n",
      "[23]\tvalidation-rmse:3.67423                                                   \n",
      "[24]\tvalidation-rmse:3.68352                                                   \n",
      "[25]\tvalidation-rmse:3.68691                                                   \n",
      "[26]\tvalidation-rmse:3.68735                                                   \n",
      "[27]\tvalidation-rmse:3.68767                                                   \n",
      "[28]\tvalidation-rmse:3.69233                                                   \n",
      "[29]\tvalidation-rmse:3.69102                                                   \n",
      "[30]\tvalidation-rmse:3.69508                                                   \n",
      "[31]\tvalidation-rmse:3.69733                                                   \n",
      "[32]\tvalidation-rmse:3.70057                                                   \n",
      "[33]\tvalidation-rmse:3.70729                                                   \n",
      "[34]\tvalidation-rmse:3.71371                                                   \n",
      "[35]\tvalidation-rmse:3.72019                                                   \n",
      "[36]\tvalidation-rmse:3.72106                                                   \n",
      "[37]\tvalidation-rmse:3.72430                                                   \n",
      "[38]\tvalidation-rmse:3.72427                                                   \n",
      "[39]\tvalidation-rmse:3.73072                                                   \n",
      "[40]\tvalidation-rmse:3.73515                                                   \n",
      "[41]\tvalidation-rmse:3.73601                                                   \n",
      "[42]\tvalidation-rmse:3.73902                                                   \n",
      "[43]\tvalidation-rmse:3.74325                                                   \n",
      "[44]\tvalidation-rmse:3.74102                                                   \n",
      "[45]\tvalidation-rmse:3.74553                                                   \n",
      "[46]\tvalidation-rmse:3.75013                                                   \n",
      "[47]\tvalidation-rmse:3.75481                                                   \n",
      "[48]\tvalidation-rmse:3.75755                                                   \n",
      "[49]\tvalidation-rmse:3.75983                                                   \n",
      "[50]\tvalidation-rmse:3.76498                                                   \n",
      "[51]\tvalidation-rmse:3.76711                                                   \n",
      "[52]\tvalidation-rmse:3.76950                                                   \n",
      "[53]\tvalidation-rmse:3.77257                                                   \n",
      "[54]\tvalidation-rmse:3.77280                                                   \n",
      "[55]\tvalidation-rmse:3.77516                                                   \n",
      "[56]\tvalidation-rmse:3.77567                                                   \n",
      "[57]\tvalidation-rmse:3.77688                                                   \n",
      "[58]\tvalidation-rmse:3.78262                                                   \n",
      "[59]\tvalidation-rmse:3.78420                                                   \n",
      "[60]\tvalidation-rmse:3.78715                                                   \n",
      "[61]\tvalidation-rmse:3.78765                                                   \n",
      "[62]\tvalidation-rmse:3.78957                                                   \n",
      "[63]\tvalidation-rmse:3.79234                                                   \n",
      "[64]\tvalidation-rmse:3.79300                                                   \n",
      "[65]\tvalidation-rmse:3.79808                                                   \n",
      "[66]\tvalidation-rmse:3.80121                                                   \n",
      "[67]\tvalidation-rmse:3.80500                                                   \n",
      "[68]\tvalidation-rmse:3.80670                                                   \n",
      "[69]\tvalidation-rmse:3.80662                                                   \n",
      "[70]\tvalidation-rmse:3.80672                                                   \n",
      "[71]\tvalidation-rmse:3.80708                                                   \n",
      "100%|██████████| 8/8 [01:16<00:00,  9.59s/trial, best loss: 3.7045709649385734]\n"
     ]
    }
   ],
   "source": [
    "search_space = {\n",
    "    'max_depth': scope.int(hp.quniform('max_depth', 4, 100, 1)),\n",
    "    'learning_rate': hp.loguniform('learning_rate', -3, 0),\n",
    "    'reg_alpha': hp.loguniform('reg_alpha', -5, -1),\n",
    "    'reg_lambda': hp.loguniform('reg_lambda', -6, -1),\n",
    "    'min_child_weight': hp.loguniform('min_child_weight', -1, 3),\n",
    "    'objective': 'reg:linear',\n",
    "    'seed': 42\n",
    "}\n",
    "\n",
    "best_result = fmin(\n",
    "    fn=objective,\n",
    "    space=search_space,\n",
    "    algo=tpe.suggest,\n",
    "    max_evals=8,\n",
    "    trials=Trials()\n",
    ")"
   ]
  },
  {
   "cell_type": "markdown",
   "id": "b52a124c",
   "metadata": {},
   "source": [
    "learning_rate\n",
    "0.2990328792427093\n",
    "max_depth\n",
    "46\n",
    "min_child_weight\n",
    "14.14890702819989\n",
    "objective\n",
    "reg:linear\n",
    "reg_alpha\n",
    "0.019914432077746316\n",
    "reg_lambda\n",
    "0.06610735740904622\n",
    "seed\n",
    "42"
   ]
  },
  {
   "cell_type": "code",
   "execution_count": 55,
   "id": "c91620ab",
   "metadata": {},
   "outputs": [
    {
     "name": "stderr",
     "output_type": "stream",
     "text": [
      "2024/09/27 20:09:33 INFO mlflow.utils.autologging_utils: Created MLflow autologging run with ID 'c91c711a7b284ff88fce3540933d1fa0', which will track hyperparameters, performance metrics, model artifacts, and lineage information for the current xgboost workflow\n"
     ]
    },
    {
     "name": "stdout",
     "output_type": "stream",
     "text": [
      "[0]\tvalidation-rmse:7.12835\n",
      "[1]\tvalidation-rmse:5.78211\n"
     ]
    },
    {
     "name": "stderr",
     "output_type": "stream",
     "text": [
      "/workspaces/mlops/venv/lib/python3.12/site-packages/xgboost/core.py:158: UserWarning: [20:09:33] WARNING: /workspace/src/objective/regression_obj.cu:227: reg:linear is now deprecated in favor of reg:squarederror.\n",
      "  warnings.warn(smsg, UserWarning)\n"
     ]
    },
    {
     "name": "stdout",
     "output_type": "stream",
     "text": [
      "[2]\tvalidation-rmse:4.90621\n",
      "[3]\tvalidation-rmse:4.35925\n",
      "[4]\tvalidation-rmse:4.03971\n",
      "[5]\tvalidation-rmse:3.85164\n",
      "[6]\tvalidation-rmse:3.74963\n",
      "[7]\tvalidation-rmse:3.67140\n",
      "[8]\tvalidation-rmse:3.64645\n",
      "[9]\tvalidation-rmse:3.61434\n",
      "[10]\tvalidation-rmse:3.60571\n",
      "[11]\tvalidation-rmse:3.58323\n",
      "[12]\tvalidation-rmse:3.57675\n",
      "[13]\tvalidation-rmse:3.58823\n",
      "[14]\tvalidation-rmse:3.58561\n",
      "[15]\tvalidation-rmse:3.58457\n",
      "[16]\tvalidation-rmse:3.58426\n",
      "[17]\tvalidation-rmse:3.58022\n",
      "[18]\tvalidation-rmse:3.57146\n",
      "[19]\tvalidation-rmse:3.57633\n",
      "[20]\tvalidation-rmse:3.57341\n",
      "[21]\tvalidation-rmse:3.57733\n",
      "[22]\tvalidation-rmse:3.57364\n",
      "[23]\tvalidation-rmse:3.58414\n",
      "[24]\tvalidation-rmse:3.59124\n",
      "[25]\tvalidation-rmse:3.59536\n",
      "[26]\tvalidation-rmse:3.59899\n",
      "[27]\tvalidation-rmse:3.60629\n",
      "[28]\tvalidation-rmse:3.60158\n",
      "[29]\tvalidation-rmse:3.60301\n",
      "[30]\tvalidation-rmse:3.60089\n",
      "[31]\tvalidation-rmse:3.60440\n",
      "[32]\tvalidation-rmse:3.60894\n",
      "[33]\tvalidation-rmse:3.61408\n",
      "[34]\tvalidation-rmse:3.62021\n",
      "[35]\tvalidation-rmse:3.62276\n",
      "[36]\tvalidation-rmse:3.61820\n",
      "[37]\tvalidation-rmse:3.62206\n",
      "[38]\tvalidation-rmse:3.62462\n",
      "[39]\tvalidation-rmse:3.62538\n",
      "[40]\tvalidation-rmse:3.62954\n",
      "[41]\tvalidation-rmse:3.63186\n",
      "[42]\tvalidation-rmse:3.63643\n",
      "[43]\tvalidation-rmse:3.63971\n",
      "[44]\tvalidation-rmse:3.64569\n",
      "[45]\tvalidation-rmse:3.64737\n",
      "[46]\tvalidation-rmse:3.65279\n",
      "[47]\tvalidation-rmse:3.65252\n",
      "[48]\tvalidation-rmse:3.65975\n",
      "[49]\tvalidation-rmse:3.66209\n",
      "[50]\tvalidation-rmse:3.66581\n",
      "[51]\tvalidation-rmse:3.66566\n",
      "[52]\tvalidation-rmse:3.66911\n",
      "[53]\tvalidation-rmse:3.67235\n",
      "[54]\tvalidation-rmse:3.67542\n",
      "[55]\tvalidation-rmse:3.67813\n",
      "[56]\tvalidation-rmse:3.67891\n",
      "[57]\tvalidation-rmse:3.67932\n",
      "[58]\tvalidation-rmse:3.68435\n",
      "[59]\tvalidation-rmse:3.68491\n",
      "[60]\tvalidation-rmse:3.68774\n",
      "[61]\tvalidation-rmse:3.69010\n",
      "[62]\tvalidation-rmse:3.69321\n",
      "[63]\tvalidation-rmse:3.69526\n",
      "[64]\tvalidation-rmse:3.69535\n",
      "[65]\tvalidation-rmse:3.70259\n",
      "[66]\tvalidation-rmse:3.70300\n",
      "[67]\tvalidation-rmse:3.70740\n"
     ]
    },
    {
     "name": "stderr",
     "output_type": "stream",
     "text": [
      "2024/09/27 20:09:38 WARNING mlflow.xgboost: Failed to infer model signature: could not sample data to infer model signature: please ensure that autologging is enabled before constructing the dataset.\n",
      "2024/09/27 20:09:38 WARNING mlflow.utils.autologging_utils: MLflow autologging encountered a warning: \"/workspaces/mlops/venv/lib/python3.12/site-packages/xgboost/core.py:158: UserWarning: [20:09:38] WARNING: /workspace/src/c_api/c_api.cc:1374: Saving model in the UBJSON format as default.  You can use file extension: `json`, `ubj` or `deprecated` to choose between formats.\"\n",
      "2024/09/27 20:09:41 WARNING mlflow.models.model: Model logged without a signature and input example. Please set `input_example` parameter when logging the model to auto infer the model signature.\n"
     ]
    }
   ],
   "source": [
    "params = {\n",
    "    'learning_rate' : 0.2990328792427093,\n",
    "    \"max_depth\" : 46,\n",
    "    \"min_child_weight\" : 14.14890702819989,\n",
    "    \"objective\" : \"reg:linear\",\n",
    "    \"reg_alpha\" : 0.019914432077746316,\n",
    "    \"reg_lambda\" : 0.06610735740904622,\n",
    "    \"seed\" : 42\n",
    "\n",
    "}\n",
    "\n",
    "mlflow.xgboost.autolog()\n",
    "\n",
    "booster = xgb.train(\n",
    "            params=params,\n",
    "            dtrain=train,\n",
    "            num_boost_round=200,\n",
    "            evals=[(valid, 'validation')],\n",
    "            early_stopping_rounds=50\n",
    "        )"
   ]
  },
  {
   "cell_type": "code",
   "execution_count": null,
   "id": "d1fbac58",
   "metadata": {},
   "outputs": [],
   "source": []
  }
 ],
 "metadata": {
  "kernelspec": {
   "display_name": "Python 3 (ipykernel)",
   "language": "python",
   "name": "python3"
  },
  "language_info": {
   "codemirror_mode": {
    "name": "ipython",
    "version": 3
   },
   "file_extension": ".py",
   "mimetype": "text/x-python",
   "name": "python",
   "nbconvert_exporter": "python",
   "pygments_lexer": "ipython3",
   "version": "3.12.1"
  }
 },
 "nbformat": 4,
 "nbformat_minor": 5
}
